{
 "cells": [
  {
   "cell_type": "code",
   "execution_count": 9,
   "id": "13040908",
   "metadata": {
    "scrolled": true
   },
   "outputs": [],
   "source": [
    "import os \n",
    "import numpy as np\n",
    "import pandas as pd\n",
    "from tqdm import tqdm\n",
    "from konlpy.tag import Mecab\n",
    "\n",
    "import seaborn as sns\n",
    "import matplotlib.pyplot as plt\n",
    "\n",
    "import string\n",
    "import pickle\n",
    "\n",
    "import tensorflow as tf\n",
    "\n",
    "from tensorflow.keras import Model, Sequential\n",
    "from tensorflow.keras import layers as nn\n",
    "from tensorflow.keras.optimizers import Adam\n",
    "from tensorflow.keras.callbacks import EarlyStopping, ReduceLROnPlateau\n",
    "from tensorflow.keras.preprocessing.sequence import pad_sequences\n",
    "\n",
    "from sklearn.metrics import confusion_matrix\n",
    "from sklearn.metrics import roc_curve, roc_auc_score\n",
    "from sklearn.model_selection import train_test_split\n",
    "\n",
    "from collections import Counter, defaultdict\n",
    "\n",
    "import warnings\n",
    "warnings.filterwarnings(\"ignore\")\n",
    "\n",
    "df = pd.read_excel(\"data/prepared_dataset.xlsx\", engine=\"openpyxl\")\n",
    "hospital_index = pd.unique(df['center'])\n",
    "\n",
    "htoi = {}\n",
    "itoh = {}\n",
    "\n",
    "for i, h in enumerate(hospital_index):\n",
    "    htoi[h] = i\n",
    "    itoh[i] = h"
   ]
  },
  {
   "cell_type": "code",
   "execution_count": 10,
   "id": "5acf5840",
   "metadata": {},
   "outputs": [
    {
     "name": "stderr",
     "output_type": "stream",
     "text": [
      "100%|██████████| 26357/26357 [00:29<00:00, 898.26it/s]\n",
      "100%|██████████| 26357/26357 [00:00<00:00, 26896.70it/s]\n",
      "100%|██████████| 26357/26357 [00:01<00:00, 18926.76it/s]\n"
     ]
    }
   ],
   "source": [
    "m = Mecab()\n",
    "\n",
    "df['symtom_1'] = \"\"\n",
    "df['symtom_2'] = \"\"\n",
    "\n",
    "for i, row in tqdm(df.iterrows(), total=len(df)):\n",
    "    df.loc[i, \"center\"] = htoi[row['center']]\n",
    "    \n",
    "    if not pd.isnull(row[\"main_symtom_1\"]):\n",
    "        df.at[i, \"symtom_1\"] = m.pos(row[\"main_symtom_1\"])\n",
    "    if not pd.isnull(row[\"main_symtom_2\"]):\n",
    "        df.at[i, \"symtom_2\"] = m.pos(row[\"main_symtom_2\"])\n",
    "        \n",
    "df = df.drop([\"operation_title\", \"main_symtom_1\", \"main_symtom_2\"], axis=1)\n",
    "df.to_excel(\"data/prepared_data_morpheme_analyzed.xlsx\")\n",
    "\n",
    "def get_clean_token(df, column, new_column):\n",
    "    results = []\n",
    "    \n",
    "    for line in tqdm(df[column].values):\n",
    "        try:\n",
    "            tokens = []\n",
    "            for data in line.split(\"),\"):\n",
    "                token = data.split(\"',\")[0].lower().replace(\"('\", \"\").replace(\"[\", \"\").replace(\"]\", \"\").replace(\" \", \"\").replace(\".\", \"\").replace(\"(\", \"\").replace(\")\", \"\")\n",
    "                if len(token) > 0:\n",
    "                    tokens.append(token)\n",
    "        except:\n",
    "            tokens = []\n",
    "\n",
    "        results.append(tokens)\n",
    "    \n",
    "    return pd.Series(results, name=new_column)\n",
    "\n",
    "df = pd.read_excel(\"data/prepared_data_morpheme_analyzed.xlsx\", engine=\"openpyxl\")\n",
    "\n",
    "symtom_1 = get_clean_token(df, \"symtom_1\", \"symtom_1_\")\n",
    "symtom_2 = get_clean_token(df, \"symtom_2\", \"symtom_2_\")\n",
    "\n",
    "df = pd.concat([df, symtom_1], axis=1)\n",
    "df = pd.concat([df, symtom_2], axis=1)\n",
    "df = df.drop(['symtom_1', 'symtom_2'], axis=1)\n",
    "df = df.dropna().reset_index(drop=True)\n",
    "\n",
    "df.to_excel(\"data/prepared_data_morpheme_analyzed.xlsx\", index=False)"
   ]
  },
  {
   "cell_type": "code",
   "execution_count": 11,
   "id": "419e6a7c",
   "metadata": {},
   "outputs": [
    {
     "name": "stdout",
     "output_type": "stream",
     "text": [
      "Train dataset: Counter({0: 13264, 1: 2841, 2: 444})\n",
      "Valid dataset: Counter({0: 1464, 1: 325, 2: 50})\n",
      "Test dataset: Counter({0: 1634, 1: 348, 2: 62})\n"
     ]
    }
   ],
   "source": [
    "df = df.loc[:, [\"center\", \"age\", \"gender\", \"height\", \"weight\", \n",
    "                \"BMI\", \"BMI_group\", \"is_operation\", \"is_pain\", \n",
    "                \"pain_NRS\", \"is_medical_history\", \"is_alertness\", \n",
    "                \"is_temperature\", \"is_pulse\", \"is_respiration\", \n",
    "                \"is_digestive\", \"is_hemoptysis\", \"is_bloody_excrement\",\n",
    "                \"pulse\", \"temperature\", \"respiration\", \"symtom_2_\", \"target\", \"target_sub\"]]\n",
    "\n",
    "# 8:1:1 split\n",
    "test_size = 0.1\n",
    "\n",
    "# # convert three classes to binary classes\n",
    "# df.loc[df.target == 2, 'target'] = 1\n",
    "# train_df, test_df = train_test_split(df, test_size=test_size, random_state=42, shuffle=True, stratify=df['target'])\n",
    "# train_df, valid_df = train_test_split(train_df, test_size=test_size, random_state=42, shuffle=True, stratify=train_df['target'])\n",
    "\n",
    "# use target_sub - negative: returning home only\n",
    "train_df, test_df = train_test_split(df, test_size=test_size, random_state=42, shuffle=True, stratify=df['target_sub'])\n",
    "train_df, valid_df = train_test_split(train_df, test_size=test_size, random_state=42, shuffle=True, stratify=train_df['target_sub'])\n",
    "\n",
    "\n",
    "print(f\"Train dataset: {Counter(train_df.target)}\")\n",
    "print(f\"Valid dataset: {Counter(valid_df.target)}\")\n",
    "print(f\"Test dataset: {Counter(test_df.target)}\")"
   ]
  },
  {
   "cell_type": "code",
   "execution_count": 13,
   "id": "df9c6d04",
   "metadata": {},
   "outputs": [
    {
     "name": "stderr",
     "output_type": "stream",
     "text": [
      "100%|██████████| 16549/16549 [00:00<00:00, 67667.61it/s]\n"
     ]
    },
    {
     "data": {
      "text/plain": [
       "['내원', '하', '함', '복통', '부터', '어', '응급실', '증상', '되', '시']"
      ]
     },
     "execution_count": 13,
     "metadata": {},
     "output_type": "execute_result"
    }
   ],
   "source": [
    "from collections import Counter\n",
    "\n",
    "vocab_dict = defaultdict(lambda: 0)\n",
    "\n",
    "# 단어 사전 정의\n",
    "for line in tqdm(train_df['symtom_2_'].values):\n",
    "    for data in line:\n",
    "        if len(data) > 0:\n",
    "            vocab_dict[data] += 1\n",
    "\n",
    "vocab_dim = len(vocab_dict) + 2\n",
    "\n",
    "vocab = sorted(vocab_dict.items(), key=lambda x: x[1], reverse=True)\n",
    "vocab = [token for token, count in vocab]\n",
    "\n",
    "vocab_stoi = {token: index + 2 for index, token in enumerate(vocab)}\n",
    "vocab_itos = {index + 2: token for index, token in enumerate(vocab)}\n",
    "\n",
    "vocab_stoi['<PAD>'] = 0\n",
    "vocab_stoi['<UNK>'] = 1\n",
    "\n",
    "vocab_itos[0] = '<PAD>'\n",
    "vocab_itos[1] = '<UNK>'\n",
    "\n",
    "vocab[:10]"
   ]
  },
  {
   "cell_type": "code",
   "execution_count": 14,
   "id": "2d822a4c",
   "metadata": {},
   "outputs": [
    {
     "name": "stdout",
     "output_type": "stream",
     "text": [
      "Before: ['상기', '자', '저녁', '회덮밥', '섭취', '후', '발생', '한', '복통', '으로', '응급실', '내원', '함']\n",
      "After: [91, 24, 74, 2320, 77, 13, 64, 26, 5, 19, 8, 2, 4]\n"
     ]
    }
   ],
   "source": [
    "def encode(data, vocab_stoi):\n",
    "    return [vocab_stoi[d] if d in vocab_stoi.keys() else vocab_stoi['<UNK>'] for d in data]\n",
    "\n",
    "\n",
    "def decode(data, vocab_itos):\n",
    "    return [vocab_itos[d] for d in data]\n",
    "\n",
    "\n",
    "for i in range(1):\n",
    "    print(f\"Before: {train_df.loc[i, 'symtom_2_']}\")\n",
    "    print(f\"After: {encode(train_df.loc[i, 'symtom_2_'], vocab_stoi)}\")"
   ]
  },
  {
   "cell_type": "code",
   "execution_count": 15,
   "id": "4ae273a9",
   "metadata": {},
   "outputs": [],
   "source": [
    "X_train_token = np.array([encode(d, vocab_stoi) for d in train_df['symtom_2_'].values])\n",
    "X_valid_token = np.array([encode(d, vocab_stoi) for d in valid_df['symtom_2_'].values])\n",
    "X_test_token = np.array([encode(d, vocab_stoi) for d in test_df['symtom_2_'].values])\n",
    "\n",
    "X_train_meta = train_df.drop([\"target\", \"target_sub\", \"symtom_2_\"], axis=1)\n",
    "X_valid_meta = valid_df.drop([\"target\", \"target_sub\", \"symtom_2_\"], axis=1)\n",
    "X_test_meta = test_df.drop([\"target\", \"target_sub\", \"symtom_2_\"], axis=1)\n",
    "\n",
    "# y_train = train_df['target'].values\n",
    "# y_valid = valid_df['target'].values\n",
    "# y_test = test_df['target'].values\n",
    "\n",
    "y_train = train_df['target_sub'].values\n",
    "y_valid = valid_df['target_sub'].values\n",
    "y_test = test_df['target_sub'].values\n",
    "\n",
    "X = [X_train_meta.reset_index(drop=True), X_valid_meta.reset_index(drop=True), X_test_meta.reset_index(drop=True)]\n",
    "y = [y_train, y_valid, y_test]\n",
    "\n",
    "with open(\"data/X_use-target_sub.pickle\", \"wb\") as f:\n",
    "    pickle.dump(X, f)\n",
    "    \n",
    "with open(\"data/y_use-target_sub.pickle\", \"wb\") as f:\n",
    "    pickle.dump(y, f)\n",
    "    \n",
    "X_train_token = pad_sequences(X_train_token, value=vocab_stoi[\"<PAD>\"], padding='post', maxlen=128)\n",
    "X_valid_token = pad_sequences(X_valid_token, value=vocab_stoi[\"<PAD>\"], padding='post', maxlen=128)\n",
    "X_test_token = pad_sequences(X_test_token, value=vocab_stoi[\"<PAD>\"], padding='post', maxlen=128)"
   ]
  },
  {
   "cell_type": "code",
   "execution_count": 16,
   "id": "1d6fe9f9",
   "metadata": {
    "scrolled": true
   },
   "outputs": [
    {
     "name": "stdout",
     "output_type": "stream",
     "text": [
      "Model: \"model\"\n",
      "__________________________________________________________________________________________________\n",
      "Layer (type)                    Output Shape         Param #     Connected to                     \n",
      "==================================================================================================\n",
      "embedding_input (InputLayer)    [(None, None)]       0                                            \n",
      "__________________________________________________________________________________________________\n",
      "embedding (Embedding)           (None, None, 256)    1889536     embedding_input[0][0]            \n",
      "__________________________________________________________________________________________________\n",
      "bidirectional (Bidirectional)   (None, None, 512)    1050624     embedding[0][0]                  \n",
      "__________________________________________________________________________________________________\n",
      "dense_1_input (InputLayer)      [(None, 21)]         0                                            \n",
      "__________________________________________________________________________________________________\n",
      "bidirectional_1 (Bidirectional) (None, 512)          1574912     bidirectional[0][0]              \n",
      "__________________________________________________________________________________________________\n",
      "dense_1 (Dense)                 (None, 32)           704         dense_1_input[0][0]              \n",
      "__________________________________________________________________________________________________\n",
      "dense (Dense)                   (None, 64)           32832       bidirectional_1[0][0]            \n",
      "__________________________________________________________________________________________________\n",
      "dense_2 (Dense)                 (None, 64)           2112        dense_1[0][0]                    \n",
      "__________________________________________________________________________________________________\n",
      "concatenate (Concatenate)       (None, 128)          0           dense[0][0]                      \n",
      "                                                                 dense_2[0][0]                    \n",
      "__________________________________________________________________________________________________\n",
      "dropout (Dropout)               (None, 128)          0           concatenate[0][0]                \n",
      "__________________________________________________________________________________________________\n",
      "dense_3 (Dense)                 (None, 64)           8256        dropout[0][0]                    \n",
      "__________________________________________________________________________________________________\n",
      "dense_4 (Dense)                 (None, 32)           2080        dense_3[0][0]                    \n",
      "__________________________________________________________________________________________________\n",
      "dense_5 (Dense)                 (None, 1)            33          dense_4[0][0]                    \n",
      "==================================================================================================\n",
      "Total params: 4,561,089\n",
      "Trainable params: 4,561,089\n",
      "Non-trainable params: 0\n",
      "__________________________________________________________________________________________________\n",
      "None\n"
     ]
    }
   ],
   "source": [
    "def define_model():\n",
    "    RNN_model = Sequential([\n",
    "        nn.Embedding(vocab_dim, 256, input_shape=(None,)), \n",
    "        nn.Bidirectional(nn.LSTM(256, return_sequences=True)),\n",
    "        nn.Bidirectional(nn.LSTM(256, return_sequences=False)),\n",
    "        nn.Dense(64, activation=\"relu\")\n",
    "    ])\n",
    "    \n",
    "    meta_model = Sequential([\n",
    "        nn.Dense(32, activation='relu', input_shape=(21,)),\n",
    "        nn.Dense(64, activation='relu')\n",
    "    ])\n",
    "\n",
    "    concated = nn.concatenate([RNN_model.output, meta_model.output])\n",
    "    concated = nn.Dropout(0.1)(concated)\n",
    "    concated = nn.Dense(64, activation='relu')(concated)\n",
    "    concated = nn.Dense(32, activation='relu')(concated)\n",
    "    concated = nn.Dense(1, activation='sigmoid')(concated)\n",
    "\n",
    "    model = Model([RNN_model.input, meta_model.input], concated)\n",
    "\n",
    "    return model\n",
    "\n",
    "model = define_model()\n",
    "print(model.summary())"
   ]
  },
  {
   "cell_type": "code",
   "execution_count": 17,
   "id": "8c0356fa",
   "metadata": {
    "scrolled": false
   },
   "outputs": [
    {
     "name": "stdout",
     "output_type": "stream",
     "text": [
      "Epoch 1/20\n",
      "130/130 [==============================] - 13s 41ms/step - loss: 0.7817 - accuracy: 0.7132 - auc: 0.5488 - val_loss: 0.4955 - val_accuracy: 0.7917 - val_auc: 0.7208\n",
      "Epoch 2/20\n",
      "130/130 [==============================] - 4s 33ms/step - loss: 0.5019 - accuracy: 0.7892 - auc: 0.7120 - val_loss: 0.4791 - val_accuracy: 0.7890 - val_auc: 0.7330\n",
      "Epoch 3/20\n",
      "130/130 [==============================] - 4s 33ms/step - loss: 0.4643 - accuracy: 0.8077 - auc: 0.7674 - val_loss: 0.4897 - val_accuracy: 0.7852 - val_auc: 0.7188\n",
      "Epoch 4/20\n",
      "130/130 [==============================] - 4s 34ms/step - loss: 0.4375 - accuracy: 0.8185 - auc: 0.7999 - val_loss: 0.4979 - val_accuracy: 0.7934 - val_auc: 0.7159\n",
      "Epoch 5/20\n",
      "130/130 [==============================] - 4s 33ms/step - loss: 0.4018 - accuracy: 0.8323 - auc: 0.8335 - val_loss: 0.5043 - val_accuracy: 0.7950 - val_auc: 0.7134\n",
      "Epoch 6/20\n",
      "130/130 [==============================] - 5s 35ms/step - loss: 0.3866 - accuracy: 0.8364 - auc: 0.8450 - val_loss: 0.5101 - val_accuracy: 0.7885 - val_auc: 0.7144\n",
      "Epoch 7/20\n",
      "130/130 [==============================] - 4s 34ms/step - loss: 0.3784 - accuracy: 0.8389 - auc: 0.8518 - val_loss: 0.5177 - val_accuracy: 0.7896 - val_auc: 0.7137\n",
      "Epoch 8/20\n",
      "130/130 [==============================] - 4s 34ms/step - loss: 0.3826 - accuracy: 0.8394 - auc: 0.8514 - val_loss: 0.5187 - val_accuracy: 0.7836 - val_auc: 0.7132\n",
      "Epoch 9/20\n",
      "130/130 [==============================] - 4s 33ms/step - loss: 0.3882 - accuracy: 0.8401 - auc: 0.8541 - val_loss: 0.5189 - val_accuracy: 0.7841 - val_auc: 0.7128\n",
      "Epoch 10/20\n",
      "130/130 [==============================] - 4s 32ms/step - loss: 0.3828 - accuracy: 0.8403 - auc: 0.8524 - val_loss: 0.5193 - val_accuracy: 0.7852 - val_auc: 0.7128\n"
     ]
    }
   ],
   "source": [
    "model.compile(optimizer=Adam(lr=0.0005),\n",
    "              loss='binary_crossentropy',\n",
    "              metrics=['accuracy', tf.keras.metrics.AUC()])\n",
    "\n",
    "es = EarlyStopping(monitor='val_loss', patience=8, restore_best_weights=True)\n",
    "lr = ReduceLROnPlateau(monitor='val_loss', factor=0.1, patience=2, min_lr=0)\n",
    "\n",
    "history = model.fit([X_train_token, X_train_meta],\n",
    "                    y_train,\n",
    "                    epochs=20,\n",
    "                    batch_size=128,\n",
    "                    validation_data=([X_valid_token, X_valid_meta], y_valid),\n",
    "                    verbose=1,\n",
    "                    callbacks=[es, lr],\n",
    "                    class_weight={0: 1, 1: 1})"
   ]
  },
  {
   "cell_type": "code",
   "execution_count": 18,
   "id": "4b8f5b1e",
   "metadata": {},
   "outputs": [
    {
     "data": {
      "image/png": "[encoded data removed]",
      "text/plain": [
       "<Figure size 432x288 with 2 Axes>"
      ]
     },
     "metadata": {
      "needs_background": "light"
     },
     "output_type": "display_data"
    }
   ],
   "source": [
    "import matplotlib.pyplot as plt\n",
    "\n",
    "prob = model.predict([X_test_token, X_test_meta])\n",
    "prob = prob.reshape(-1)\n",
    "pred = [1 if p >= 0.25 else 0 for p in prob]\n",
    "\n",
    "sns.heatmap(confusion_matrix(y_test, pred), annot=True, fmt='d')\n",
    "plt.xlabel(\"predicted\")\n",
    "plt.ylabel(\"true\")\n",
    "plt.show()"
   ]
  },
  {
   "cell_type": "code",
   "execution_count": 19,
   "id": "c5a69120",
   "metadata": {},
   "outputs": [
    {
     "data": {
      "image/png": "[encoded data removed]",
      "text/plain": [
       "<Figure size 432x288 with 1 Axes>"
      ]
     },
     "metadata": {
      "needs_background": "light"
     },
     "output_type": "display_data"
    },
    {
     "name": "stdout",
     "output_type": "stream",
     "text": [
      "AUC: 0.7512\n"
     ]
    }
   ],
   "source": [
    "def plot_roc_curve(fper, tper, auc):\n",
    "    plt.plot(fper, tper, color='red', label='ROC')\n",
    "    plt.plot([0, 1], [0, 1], color='green', linestyle='--')\n",
    "    plt.xlabel('False Positive Rate')\n",
    "    plt.ylabel('True Positive Rate')\n",
    "    plt.title(f'ROC performance')\n",
    "    plt.legend()\n",
    "    plt.show()\n",
    "    \n",
    "fper, tper, thresholds = roc_curve(y_test, prob)\n",
    "auc = roc_auc_score(y_test, prob)\n",
    "plot_roc_curve(fper, tper, auc)\n",
    "print(f\"AUC: {auc.round(4)}\")"
   ]
  },
  {
   "cell_type": "code",
   "execution_count": 20,
   "id": "b06ba434",
   "metadata": {},
   "outputs": [],
   "source": [
    "res = pd.DataFrame({\"label\": y_test, \"Score_dnn\": prob})\n",
    "# res.to_excel(\"model_performances.xlsx\", index=False)\n",
    "res.to_excel(\"model_performances_use-target_sub.xlsx\", index=False)\n",
    "\n",
    "os.makedirs(\"weights\", exist_ok=True)\n",
    "# model.save(\"weights/DNN_model_weights.h5\")\n",
    "model.save(\"weights/DNN_model_weights_use-target_sub.h5\")"
   ]
  },
  {
   "cell_type": "code",
   "execution_count": null,
   "id": "ea6b0a42",
   "metadata": {},
   "outputs": [],
   "source": []
  }
 ],
 "metadata": {
  "kernelspec": {
   "display_name": "Python 3",
   "language": "python",
   "name": "python3"
  },
  "language_info": {
   "codemirror_mode": {
    "name": "ipython",
    "version": 3
   },
   "file_extension": ".py",
   "mimetype": "text/x-python",
   "name": "python",
   "nbconvert_exporter": "python",
   "pygments_lexer": "ipython3",
   "version": "3.8.10"
  }
 },
 "nbformat": 4,
 "nbformat_minor": 5
}
