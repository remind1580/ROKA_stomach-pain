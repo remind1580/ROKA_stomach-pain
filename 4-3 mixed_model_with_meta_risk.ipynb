{
 "cells": [
  {
   "cell_type": "code",
   "execution_count": null,
   "id": "8cd7f382",
   "metadata": {},
   "outputs": [],
   "source": [
    "import pickle\n",
    "import pandas as pd\n",
    "\n",
    "with open(\"data/X_meta_use-target_sub.pickle\", \"rb\") as f:\n",
    "    X_meta = pickle.load(f)\n",
    "\n",
    "X_train_meta, X_valid_meta, X_test_meta = X_meta\n",
    "    \n",
    "with open(\"data/X_token_use-target_sub.pickle\", \"rb\") as f:\n",
    "    X_token = pickle.load(f)\n",
    "\n",
    "X_train_token, X_valid_token, X_test_token = X_token\n",
    "    \n",
    "with open(\"data/y_use-target_sub.pickle\", \"rb\") as f:\n",
    "    y = pickle.load(f)\n",
    "    \n",
    "y_train, y_valid, y_test = y"
   ]
  },
  {
   "cell_type": "code",
   "execution_count": null,
   "id": "cad2c3aa",
   "metadata": {},
   "outputs": [],
   "source": [
    "from sklearn.feature_extraction.text import TfidfVectorizer, CountVectorizer\n",
    "\n",
    "count_vectorizer = CountVectorizer(min_df=.015, max_df=.8, max_features=1000, ngram_range=[1, 3])\n",
    "count_vectorizer.fit(X_train_token)\n",
    "X_train_token_vec = pd.DataFrame.sparse.from_spmatrix(count_vectorizer.transform(X_train_token))\n",
    "X_valid_token_vec = pd.DataFrame.sparse.from_spmatrix(count_vectorizer.transform(X_valid_token))\n",
    "X_test_token_vec = pd.DataFrame.sparse.from_spmatrix(count_vectorizer.transform(X_test_token))\n"
   ]
  },
  {
   "cell_type": "code",
   "execution_count": null,
   "id": "5ef1da5e",
   "metadata": {},
   "outputs": [],
   "source": [
    "X_train = pd.concat([X_train_meta, X_train_token_vec], axis=1)\n",
    "X_valid = pd.concat([X_valid_meta, X_valid_token_vec], axis=1)\n",
    "X_test = pd.concat([X_test_meta, X_test_token_vec], axis=1)\n",
    "\n",
    "y_train = pd.DataFrame(y_train, columns=['target'])\n",
    "y_valid = pd.DataFrame(y_valid, columns=['target'])\n",
    "y_test = pd.DataFrame(y_test, columns=['target'])\n",
    "\n",
    "train_df = pd.concat([X_train, y_train], axis=1)\n",
    "valid_df = pd.concat([X_valid, y_valid], axis=1)\n",
    "test_df = pd.concat([X_test, y_test], axis=1)"
   ]
  },
  {
   "cell_type": "code",
   "execution_count": 1,
   "id": "bbf1e52e",
   "metadata": {},
   "outputs": [],
   "source": [
    "from xgboost import XGBClassifier\n",
    "\n",
    "model = XGBClassifier()\n",
    "\n",
    "with open(\"data/stomach_tree.pkl\", \"rb\") as f:\n",
    "    model = pickle.load(f)\n",
    "        \n",
    "prob = model.predict_proba(X_test)[:, 1]"
   ]
  },
  {
   "cell_type": "code",
   "execution_count": null,
   "id": "a79c20ff",
   "metadata": {},
   "outputs": [],
   "source": [
    "import numpy as np\n",
    "        \n",
    "def compute_meta_risk(x):\n",
    "    risk = 0\n",
    "    risk += x['pain_NRS'] * 0.1\n",
    "    \n",
    "    if x[\"temperature\"] > 37 and x[\"temperature\"] <= 38:\n",
    "        risk += 0.3\n",
    "    elif x[\"temperature\"] > 38 and x[\"temperature\"] <= 39:\n",
    "        risk += 0.6\n",
    "    else:\n",
    "        risk += 1\n",
    "    \n",
    "    if x[\"pulse\"] > 80 and x[\"pulse\"] <= 90:\n",
    "        risk += 0.3\n",
    "    elif x[\"pulse\"] > 90 and x[\"pulse\"] <= 100:\n",
    "        risk += 0.6\n",
    "    elif x[\"pulse\"] > 100:\n",
    "        risk += 1\n",
    "        \n",
    "    if x[\"respiration\"] > 16 and x[\"respiration\"] <= 18:\n",
    "        risk += 0.3\n",
    "    elif x[\"respiration\"] > 18 and x[\"respiration\"] <= 20:\n",
    "        risk += 0.6\n",
    "    elif x[\"respiration\"] > 20:\n",
    "        risk += 1\n",
    "        \n",
    "    if x[\"is_operation\"] == 1:\n",
    "        risk += 0.3\n",
    "        \n",
    "    if x[\"is_medical_history\"] == 1:\n",
    "        risk += 0.3\n",
    "        \n",
    "    if x[\"is_alertness\"] == 0:\n",
    "        risk += 1\n",
    "        \n",
    "    if x[\"is_digestive\"] == 1:\n",
    "        risk += 0.3\n",
    "        \n",
    "    if x[\"is_hemoptysis\"] == 1:\n",
    "        risk += 0.5\n",
    "        \n",
    "    if x[\"is_bloody_excrement\"] == 1:\n",
    "        risk += 0.8\n",
    "        \n",
    "    if risk > 1:\n",
    "        risk = 1\n",
    "        \n",
    "    return risk"
   ]
  },
  {
   "cell_type": "code",
   "execution_count": null,
   "id": "c6752225",
   "metadata": {},
   "outputs": [],
   "source": [
    "meta_risk = X_train.apply(compute_meta_risk, axis=1)\n",
    "\n",
    "final_prob = (prob + meta_risk) / 2"
   ]
  },
  {
   "cell_type": "code",
   "execution_count": null,
   "id": "8e77ebb8",
   "metadata": {},
   "outputs": [],
   "source": []
  }
 ],
 "metadata": {
  "kernelspec": {
   "display_name": "Python 3 (ipykernel)",
   "language": "python",
   "name": "python3"
  },
  "language_info": {
   "codemirror_mode": {
    "name": "ipython",
    "version": 3
   },
   "file_extension": ".py",
   "mimetype": "text/x-python",
   "name": "python",
   "nbconvert_exporter": "python",
   "pygments_lexer": "ipython3",
   "version": "3.9.6"
  }
 },
 "nbformat": 4,
 "nbformat_minor": 5
}
